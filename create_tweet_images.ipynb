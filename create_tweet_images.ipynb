{
 "cells": [
  {
   "cell_type": "code",
   "execution_count": null,
   "id": "e8dbf282",
   "metadata": {},
   "outputs": [],
   "source": []
  },
  {
   "cell_type": "code",
   "execution_count": null,
   "id": "79cba934",
   "metadata": {},
   "outputs": [],
   "source": [
    "# --- Load tweet list from CSV ---\n",
    "tweet_list = []\n",
    "with open('data/toptweets.csv', newline='', encoding='utf-8') as csvfile:\n",
    "    reader = csv.reader(csvfile)\n",
    "    next(reader)\n",
    "    for row in reader:\n",
    "        if len(row) >= 3:\n",
    "            tweet_list.append(row[:3])\n",
    "        else:\n",
    "            raise ValueError(f\"Unexpected row length: {row}\")\n",
    "\n",
    "# Optional: Limit to top N\n",
    "tweet_list = tweet_list[0:3]\n",
    "\n",
    "# --- Run processing ---\n",
    "process_tweet_list(tweet_list)"
   ]
  }
 ],
 "metadata": {
  "kernelspec": {
   "display_name": ".venv",
   "language": "python",
   "name": "python3"
  },
  "language_info": {
   "name": "python",
   "version": "3.12.3"
  }
 },
 "nbformat": 4,
 "nbformat_minor": 5
}
