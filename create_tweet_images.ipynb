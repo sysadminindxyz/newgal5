{
 "cells": [
  {
   "cell_type": "code",
   "execution_count": null,
   "id": "e8dbf282",
   "metadata": {},
   "outputs": [
    {
     "ename": "NameError",
     "evalue": "name '__file__' is not defined",
     "output_type": "error",
     "traceback": [
      "\u001b[31m---------------------------------------------------------------------------\u001b[39m",
      "\u001b[31mNameError\u001b[39m                                 Traceback (most recent call last)",
      "\u001b[36mCell\u001b[39m\u001b[36m \u001b[39m\u001b[32mIn[11]\u001b[39m\u001b[32m, line 4\u001b[39m\n\u001b[32m      2\u001b[39m \u001b[38;5;28;01mimport\u001b[39;00m\u001b[38;5;250m \u001b[39m\u001b[34;01mos\u001b[39;00m\n\u001b[32m      3\u001b[39m \u001b[38;5;66;03m# Add the absolute path to central-pipeline to sys.path\u001b[39;00m\n\u001b[32m----> \u001b[39m\u001b[32m4\u001b[39m central_pipeline_path = os.path.abspath(os.path.join(os.path.dirname(\u001b[34;43m__file__\u001b[39;49m),  \u001b[33m'\u001b[39m\u001b[33m..\u001b[39m\u001b[33m'\u001b[39m,\u001b[33m'\u001b[39m\u001b[33mcentral-pipeline\u001b[39m\u001b[33m'\u001b[39m))\n\u001b[32m      5\u001b[39m sys.path.append(central_pipeline_path)\n\u001b[32m      6\u001b[39m \u001b[38;5;28;01mfrom\u001b[39;00m\u001b[38;5;250m \u001b[39m\u001b[34;01mindxyz_utils\u001b[39;00m\u001b[34;01m.\u001b[39;00m\u001b[34;01mtweet_to_image_tools\u001b[39;00m\u001b[38;5;250m \u001b[39m\u001b[38;5;28;01mimport\u001b[39;00m extract_tweet_id \n",
      "\u001b[31mNameError\u001b[39m: name '__file__' is not defined"
     ]
    }
   ],
   "source": [
    "import csv\n",
    "import os\n",
    "\n",
    "# Add the absolute path to central-pipeline to sys.path\n",
    "central_pipeline_path = os.path.abspath(os.path.join(os.path.dirname(__file__),  '..','central-pipeline'))\n",
    "sys.path.append(central_pipeline_path)\n",
    "from indxyz_utils.tweet_to_image_tools import extract_tweet_id \n",
    "from indxyz_utils.tweet_to_image_tools import fetch_oembed_html, save_html_as_image"
   ]
  },
  {
   "cell_type": "code",
   "execution_count": null,
   "id": "79cba934",
   "metadata": {},
   "outputs": [
    {
     "name": "stdout",
     "output_type": "stream",
     "text": [
      "[['https://x.com/BillGates/status/1948167071684231344'], ['https://x.com/BillGates/status/1943794047988249030'], ['https://x.com/BillGates/status/1943750242148790622'], ['https://x.com/Forbes/status/1952877299025502591'], ['https://x.com/FortuneMagazine/status/1950334161178317173'], ['https://x.com/FortuneMagazine/status/1952460003215855778'], ['https://x.com/AFpost/status/1929980949653229759']]\n"
     ]
    }
   ],
   "source": [
    "# --- Load tweet list from CSV ---\n",
    "tweet_list = []\n",
    "with open('data/toptweets.csv', newline='', encoding='utf-8') as csvfile:\n",
    "    reader = csv.reader(csvfile)\n",
    "    next(reader)\n",
    "    for row in reader:\n",
    "        tweet_list.append(row)\n",
    "\n",
    "# Optional: Limit to top N\n",
    "#print(tweet_list)\n",
    "\n",
    "for tweet in tweet_list:\n",
    "    tweet_url=tweet[0]\n",
    "\n",
    "print(tweet_url)\n",
    "tweet_id = extract_tweet_id(tweet_url)\n",
    "html = fetch_oembed_html(tweet_url)\n",
    "image_name = f\"tweet_{tweet_id}.png\"\n",
    "image_path = os.path.join(output_dir, image_name)\n",
    "save_html_as_image(html, image_path)\n",
    "\n"
   ]
  },
  {
   "cell_type": "code",
   "execution_count": null,
   "id": "d3bb94ef",
   "metadata": {},
   "outputs": [],
   "source": [
    "tweet_list = tweet_list[0:1]\n",
    "\n",
    "# --- Run processing ---\n",
    "process_tweet_list(tweet_list)"
   ]
  }
 ],
 "metadata": {
  "kernelspec": {
   "display_name": ".venv",
   "language": "python",
   "name": "python3"
  },
  "language_info": {
   "codemirror_mode": {
    "name": "ipython",
    "version": 3
   },
   "file_extension": ".py",
   "mimetype": "text/x-python",
   "name": "python",
   "nbconvert_exporter": "python",
   "pygments_lexer": "ipython3",
   "version": "3.12.3"
  }
 },
 "nbformat": 4,
 "nbformat_minor": 5
}
